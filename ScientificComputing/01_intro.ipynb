{
 "cells": [
  {
   "cell_type": "markdown",
   "metadata": {},
   "source": [
    "Introduction to Github Codespaces\n",
    "---------------------------------\n",
    "\n",
    "Opening this repository in Github Codespaces provides serveral advantages\n",
    "over running directly on your laptop/desktop computer...\n",
    "\n",
    "1. No software libraries/packages need to be installed. The repository environment includes all the software needed to run the examples\n",
    "2. The examples are guaranteed to work the same way for every user: Windows or Mac, powerful desktop or Chromebook\n",
    "3. The codespace runs \"in the cloud\" meaning that you'll have fast access to online data repositories even when your local internet connection is not the best\n",
    "4. Any changes you make or data collected will be available as long as the Codespace is not deleted - no losing data because of disk crash or spilling coffee on your laptop\n"
   ]
  },
  {
   "cell_type": "code",
   "execution_count": null,
   "metadata": {},
   "outputs": [],
   "source": [
    "# Let's explore the environment...\n",
    "# In jupyter if you preface the cell with \"!\" it runs the command in a shell rather\n",
    "# than through the python interperter\n",
    "\n",
    "# Let's verify our identity\n",
    "! whoami"
   ]
  },
  {
   "cell_type": "code",
   "execution_count": null,
   "metadata": {},
   "outputs": [],
   "source": [
    "# what directory is this?\n",
    "! pwd"
   ]
  },
  {
   "cell_type": "code",
   "execution_count": null,
   "metadata": {},
   "outputs": [],
   "source": [
    "# how much disk space do I have?\n",
    "! df ."
   ]
  },
  {
   "cell_type": "code",
   "execution_count": null,
   "metadata": {},
   "outputs": [],
   "source": [
    "# what is the operating system?\n",
    "! cat /etc/os-release"
   ]
  },
  {
   "cell_type": "code",
   "execution_count": null,
   "metadata": {},
   "outputs": [],
   "source": [
    "# what Python version is this?\n",
    "! python --version"
   ]
  },
  {
   "cell_type": "code",
   "execution_count": null,
   "metadata": {},
   "outputs": [],
   "source": [
    "# what Python packages are available?\n",
    "! pip freeze"
   ]
  },
  {
   "cell_type": "code",
   "execution_count": 3,
   "metadata": {},
   "outputs": [
    {
     "data": {
      "text/plain": [
       "16"
      ]
     },
     "execution_count": 3,
     "metadata": {},
     "output_type": "execute_result"
    }
   ],
   "source": [
    "# how many cores are there/\n",
    "import multiprocessing\n",
    "multiprocessing.cpu_count()"
   ]
  },
  {
   "cell_type": "code",
   "execution_count": 5,
   "metadata": {},
   "outputs": [
    {
     "data": {
      "text/plain": [
       "62"
      ]
     },
     "execution_count": 5,
     "metadata": {},
     "output_type": "execute_result"
    }
   ],
   "source": [
    "# how much memory is there?\n",
    "import psutil\n",
    "psutil.virtual_memory().total  // 1024 ** 3  # total physical memory in GB\n"
   ]
  }
 ],
 "metadata": {
  "kernelspec": {
   "display_name": "py39",
   "language": "python",
   "name": "python3"
  },
  "language_info": {
   "codemirror_mode": {
    "name": "ipython",
    "version": 3
   },
   "file_extension": ".py",
   "mimetype": "text/x-python",
   "name": "python",
   "nbconvert_exporter": "python",
   "pygments_lexer": "ipython3",
   "version": "3.9.15"
  }
 },
 "nbformat": 4,
 "nbformat_minor": 2
}
